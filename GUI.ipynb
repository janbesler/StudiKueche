{
 "cells": [
  {
   "cell_type": "code",
   "execution_count": 1,
   "metadata": {},
   "outputs": [],
   "source": [
    "# Libraries"
   ]
  },
  {
   "cell_type": "code",
   "execution_count": 2,
   "metadata": {},
   "outputs": [
    {
     "ename": "ModuleNotFoundError",
     "evalue": "No module named 'kivy'",
     "output_type": "error",
     "traceback": [
      "\u001b[0;31m---------------------------------------------------------------------------\u001b[0m",
      "\u001b[0;31mModuleNotFoundError\u001b[0m                       Traceback (most recent call last)",
      "\u001b[1;32m/home/jan/Documents/Projects/Food Expenditure App/GUI.ipynb Cell 2\u001b[0m line \u001b[0;36m1\n\u001b[0;32m----> <a href='vscode-notebook-cell:/home/jan/Documents/Projects/Food%20Expenditure%20App/GUI.ipynb#W1sZmlsZQ%3D%3D?line=0'>1</a>\u001b[0m \u001b[39mfrom\u001b[39;00m \u001b[39mkivy\u001b[39;00m\u001b[39m.\u001b[39;00m\u001b[39mapp\u001b[39;00m \u001b[39mimport\u001b[39;00m App\n\u001b[1;32m      <a href='vscode-notebook-cell:/home/jan/Documents/Projects/Food%20Expenditure%20App/GUI.ipynb#W1sZmlsZQ%3D%3D?line=1'>2</a>\u001b[0m \u001b[39mfrom\u001b[39;00m \u001b[39mkivy\u001b[39;00m\u001b[39m.\u001b[39;00m\u001b[39muix\u001b[39;00m\u001b[39m.\u001b[39;00m\u001b[39mboxlayout\u001b[39;00m \u001b[39mimport\u001b[39;00m BoxLayout\n\u001b[1;32m      <a href='vscode-notebook-cell:/home/jan/Documents/Projects/Food%20Expenditure%20App/GUI.ipynb#W1sZmlsZQ%3D%3D?line=2'>3</a>\u001b[0m \u001b[39mfrom\u001b[39;00m \u001b[39mkivy\u001b[39;00m\u001b[39m.\u001b[39;00m\u001b[39mlang\u001b[39;00m \u001b[39mimport\u001b[39;00m Builder\n",
      "\u001b[0;31mModuleNotFoundError\u001b[0m: No module named 'kivy'"
     ]
    }
   ],
   "source": [
    "from kivy.app import App\n",
    "from kivy.uix.boxlayout import BoxLayout\n",
    "from kivy.lang import Builder\n",
    "from kivy.uix.camera import Camera"
   ]
  },
  {
   "cell_type": "markdown",
   "metadata": {},
   "source": [
    "# GUI"
   ]
  },
  {
   "cell_type": "code",
   "execution_count": null,
   "metadata": {},
   "outputs": [],
   "source": [
    "KV = '''\n",
    "BoxLayout:\n",
    "    orientation: 'vertical'\n",
    "    Camera:\n",
    "        id: camera\n",
    "        resolution: (640, 480)\n",
    "        play: True\n",
    "    Button:\n",
    "        text: 'Capture'\n",
    "        on_press: app.capture_image()\n",
    "'''\n",
    "\n",
    "class MainApp(App):\n",
    "    def build(self):\n",
    "        return Builder.load_string(KV)\n",
    "\n",
    "    def capture_image(self):\n",
    "        self.root.ids.camera.export_to_png('receipt.png')\n",
    "        # Here you can add code to process the image\n",
    "\n",
    "if __name__ == '__main__':\n",
    "    MainApp().run()\n"
   ]
  }
 ],
 "metadata": {
  "kernelspec": {
   "display_name": "Python 3",
   "language": "python",
   "name": "python3"
  },
  "language_info": {
   "codemirror_mode": {
    "name": "ipython",
    "version": 3
   },
   "file_extension": ".py",
   "mimetype": "text/x-python",
   "name": "python",
   "nbconvert_exporter": "python",
   "pygments_lexer": "ipython3",
   "version": "3.11.7"
  }
 },
 "nbformat": 4,
 "nbformat_minor": 2
}
